{
 "cells": [
  {
   "cell_type": "code",
   "execution_count": 5,
   "metadata": {},
   "outputs": [
    {
     "name": "stdout",
     "output_type": "stream",
     "text": [
      "NVIDIA GeForce RTX 3080\n"
     ]
    }
   ],
   "source": [
    "from typing import List, Tuple\n",
    "import os\n",
    "import numpy as np\n",
    "\n",
    "import torch\n",
    "from torch import nn\n",
    "from torch.utils.data import DataLoader, Dataset\n",
    "\n",
    "if torch.cuda.is_available():\n",
    "    print(torch.cuda.get_device_name(0))\n",
    "\n",
    "torch.manual_seed(4321)\n",
    "torch.use_deterministic_algorithms(True)"
   ]
  },
  {
   "cell_type": "markdown",
   "metadata": {},
   "source": [
    "## Prepare Dataset"
   ]
  },
  {
   "cell_type": "code",
   "execution_count": 3,
   "metadata": {},
   "outputs": [],
   "source": [
    "class BCIDataset(Dataset):\n",
    "    _data_files: List[str]\n",
    "    _data_loaded: bool = False\n",
    "\n",
    "    _data: np.ndarray\n",
    "    _labels: np.ndarray\n",
    "\n",
    "    def __init__(\n",
    "        self, data_files: List[str] = [\"S4b_train.npz\", \"X11b_train.npz\"]\n",
    "    ):\n",
    "        super(BCIDataset, self).__init__()\n",
    "        for file in data_files:\n",
    "            if not os.path.exists(file):\n",
    "                raise FileNotFoundError(f\"The data file {file} does not exist.\")\n",
    "        \n",
    "        self._data_files = data_files\n",
    "\n",
    "    def __len__(self):\n",
    "        # lazy loading\n",
    "        if not self._data_loaded:\n",
    "            self._load_data()\n",
    "\n",
    "        return self._labels.shape[0]\n",
    "\n",
    "    def __getitem__(self, index: int) -> Tuple[torch.Tensor]:\n",
    "        # lazy loading\n",
    "        if not self._data_loaded:\n",
    "            self._load_data()\n",
    "\n",
    "        return torch.from_numpy(self._data[index]), self._labels[index]\n",
    "\n",
    "    def _load_data(self):\n",
    "        data = []\n",
    "        labels = []\n",
    "\n",
    "        for file in self._data_files:\n",
    "            with np.load(file) as f:\n",
    "                data.append(f[\"signal\"])\n",
    "                labels.append(f[\"label\"])\n",
    "\n",
    "        self._data = np.concatenate(data, axis = 0)\n",
    "        self._labels = np.concatenate(labels, axis = 0)\n",
    "\n",
    "        self._data = np.expand_dims(self._data, axis=1).swapaxes(-1, -2)\n",
    "        self._labels -= 1\n",
    "\n",
    "        mask = np.where(np.isnan(self._data))\n",
    "        self._data[mask] = np.nanmean(self._data)\n",
    "\n",
    "        self._data_loaded = True\n",
    "\n",
    "train_dataset = BCIDataset(data_files = [\"S4b_train.npz\", \"X11b_train.npz\"])\n",
    "test_dataset = BCIDataset(data_files = [\"S4b_test.npz\", \"X11b_test.npz\"])"
   ]
  },
  {
   "cell_type": "markdown",
   "metadata": {},
   "source": [
    "## Build Models"
   ]
  },
  {
   "cell_type": "markdown",
   "metadata": {},
   "source": [
    "### EEGNet\n",
    "\n",
    "#### Architecture\n",
    "![EEGNet](assets/EEGNet.jpg)"
   ]
  },
  {
   "cell_type": "code",
   "execution_count": 6,
   "metadata": {},
   "outputs": [
    {
     "name": "stdout",
     "output_type": "stream",
     "text": [
      "EEGNet(\n",
      "  (first_conv): Sequential(\n",
      "    (0): Conv2d(1, 16, kernel_size=(1, 51), stride=(1, 1), padding=(0, 25), bias=False)\n",
      "    (1): BatchNorm2d(16, eps=1e-05, momentum=0.1, affine=True, track_running_stats=True)\n",
      "  )\n",
      "  (depthwise_conv): Sequential(\n",
      "    (0): Conv2d(16, 32, kernel_size=(2, 1), stride=(1, 1), groups=16, bias=False)\n",
      "    (1): BatchNorm2d(32, eps=1e-05, momentum=0.1, affine=True, track_running_stats=True)\n",
      "    (2): ELU(alpha=1.0)\n",
      "    (3): AvgPool2d(kernel_size=(1, 4), stride=(1, 4), padding=0)\n",
      "    (4): Dropout(p=0.25, inplace=False)\n",
      "  )\n",
      "  (separable_conv): Sequential(\n",
      "    (0): Conv2d(32, 32, kernel_size=(1, 15), stride=(1, 1), padding=(0, 7), bias=False)\n",
      "    (1): BatchNorm2d(32, eps=1e-05, momentum=0.1, affine=True, track_running_stats=True)\n",
      "    (2): ELU(alpha=1.0)\n",
      "    (3): AvgPool2d(kernel_size=(1, 8), stride=(1, 8), padding=0)\n",
      "    (4): Dropout(p=0.25, inplace=False)\n",
      "  )\n",
      "  (classfier): Sequential(\n",
      "    (0): Linear(in_features=736, out_features=2, bias=True)\n",
      "  )\n",
      ")\n"
     ]
    }
   ],
   "source": [
    "class EEGNet(nn.Module):\n",
    "    first_conv: nn.Sequential\n",
    "    depthwise_conv: nn.Sequential\n",
    "    separable_conv: nn.Sequential\n",
    "    classfier: nn.Sequential\n",
    "\n",
    "    def __init__(self):\n",
    "        super(EEGNet, self).__init__()\n",
    "        self.first_conv = nn.Sequential(\n",
    "            nn.Conv2d(1, 16, kernel_size = (1, 51), stride = (1, 1), padding = (0, 25), bias = False),\n",
    "            nn.BatchNorm2d(16, eps = 1e-5, momentum = 0.1, affine = True, track_running_stats = True)\n",
    "        )\n",
    "        self.depthwise_conv = nn.Sequential(\n",
    "            nn.Conv2d(16, 32, kernel_size = (2, 1), stride = (1, 1), groups = 16, bias = False),\n",
    "            nn.BatchNorm2d(32, eps = 1e-5, momentum = 0.1, affine = True, track_running_stats = True),\n",
    "            nn.ELU(alpha = 1.0),\n",
    "            nn.AvgPool2d(kernel_size = (1, 4), stride = (1, 4), padding = 0),\n",
    "            nn.Dropout(p = 0.25)\n",
    "        )\n",
    "        # input: batch, 32, 2, 188\n",
    "        self.separable_conv = nn.Sequential(\n",
    "            nn.Conv2d(32, 32, kernel_size = (1, 15), stride = (1, 1), padding = (0, 7), bias = False),\n",
    "            nn.BatchNorm2d(32, eps = 1e-5, momentum = 0.1, affine = True, track_running_stats = True),\n",
    "            nn.ELU(alpha = 1.0),\n",
    "            nn.AvgPool2d(kernel_size = (1, 8), stride = (1, 8), padding = 0),\n",
    "            nn.Dropout(p = 0.25)\n",
    "        )\n",
    "        self.classfier = nn.Sequential(\n",
    "            nn.Linear(736, 2, bias = True)\n",
    "        )\n",
    "\n",
    "    def forward(self, x):\n",
    "        x = self.first_conv(x)\n",
    "        x = self.depthwise_conv(x)\n",
    "        x = self.separable_conv(x)\n",
    "        return self.classfier(x)\n",
    "\n",
    "network = EEGNet()\n",
    "print(network)"
   ]
  },
  {
   "cell_type": "markdown",
   "metadata": {},
   "source": [
    "### DeepConvNet\n",
    "\n",
    "#### Architecture\n",
    "> Parameters: C = 2, T = 750, N = 2\n",
    "\n",
    "![DeepConvNet](assets/DeepConvNet.jpg)"
   ]
  },
  {
   "cell_type": "code",
   "execution_count": null,
   "metadata": {},
   "outputs": [],
   "source": [
    "class DeepConvNet(nn.Module):\n",
    "    first_conv: nn.Sequential\n",
    "    depthwise_conv: nn.Sequential\n",
    "    separable_conv: nn.Sequential\n",
    "    classfier: nn.Sequential\n",
    "\n",
    "    def __init__(self):\n",
    "        super(EEGNet, self).__init__()\n",
    "        self.first_conv = nn.Sequential(\n",
    "            nn.Conv2d(1, 16, kernel_size = (1, 51), stride = (1, 1), padding = (0, 25), bias = False),\n",
    "            nn.BatchNorm2d(16, eps = 1e-5, momentum = 0.1, affine = True, track_running_stats = True)\n",
    "        )\n",
    "        self.depthwise_conv = nn.Sequential(\n",
    "            nn.Conv2d(16, 32, kernel_size = (2, 1), stride = (1, 1), groups = 16, bias = False),\n",
    "            nn.BatchNorm2d(32, eps = 1e-5, momentum = 0.1, affine = True, track_running_stats = True),\n",
    "            nn.ELU(alpha = 1.0),\n",
    "            nn.AvgPool2d(kernel_size = (1, 4), stride = (1, 4), padding = 0),\n",
    "            nn.Dropout(p = 0.25)\n",
    "        )\n",
    "        # input: batch, 32, 2, 188\n",
    "        self.separable_conv = nn.Sequential(\n",
    "            nn.Conv2d(32, 32, kernel_size = (1, 15), stride = (1, 1), padding = (0, 7), bias = False),\n",
    "            nn.BatchNorm2d(32, eps = 1e-5, momentum = 0.1, affine = True, track_running_stats = True),\n",
    "            nn.ELU(alpha = 1.0),\n",
    "            nn.AvgPool2d(kernel_size = (1, 8), stride = (1, 8), padding = 0),\n",
    "            nn.Dropout(p = 0.25)\n",
    "        )\n",
    "        self.classfier = nn.Sequential(\n",
    "            nn.Linear(736, 2, bias = True)\n",
    "        )\n",
    "\n",
    "    def forward(self, x):\n",
    "        x = self.first_conv(x)\n",
    "        x = self.depthwise_conv(x)\n",
    "        x = self.separable_conv(x)\n",
    "        return self.classfier(x)\n",
    "\n",
    "network = EEGNet()\n",
    "print(network)"
   ]
  },
  {
   "cell_type": "markdown",
   "metadata": {},
   "source": [
    "## Training"
   ]
  },
  {
   "cell_type": "code",
   "execution_count": 34,
   "metadata": {},
   "outputs": [],
   "source": [
    "train_dataloader = DataLoader(train_dataset, batch_size=64, shuffle=True)\n",
    "test_dataloader = DataLoader(test_dataset, batch_size=64, shuffle=True)"
   ]
  }
 ],
 "metadata": {
  "kernelspec": {
   "display_name": "Python 3.9.12 ('DP2022Summer')",
   "language": "python",
   "name": "python3"
  },
  "language_info": {
   "codemirror_mode": {
    "name": "ipython",
    "version": 3
   },
   "file_extension": ".py",
   "mimetype": "text/x-python",
   "name": "python",
   "nbconvert_exporter": "python",
   "pygments_lexer": "ipython3",
   "version": "3.9.12"
  },
  "orig_nbformat": 4,
  "vscode": {
   "interpreter": {
    "hash": "1daeb12ce1c2b9107a007b93cc8d47f32e23b47396c877a51898640c6e188db1"
   }
  }
 },
 "nbformat": 4,
 "nbformat_minor": 2
}
