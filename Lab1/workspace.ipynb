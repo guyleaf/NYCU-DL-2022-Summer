{
 "cells": [
  {
   "cell_type": "code",
   "execution_count": null,
   "metadata": {},
   "outputs": [],
   "source": [
    "%pip install numpy\n",
    "%pip install matplotlib"
   ]
  },
  {
   "cell_type": "code",
   "execution_count": 33,
   "metadata": {},
   "outputs": [],
   "source": [
    "import numpy as np\n",
    "import matplotlib.pyplot as plt\n",
    "\n",
    "from typing import List, Tuple, Union\n",
    "from math import ceil, floor"
   ]
  },
  {
   "cell_type": "markdown",
   "metadata": {},
   "source": [
    "## Setup"
   ]
  },
  {
   "cell_type": "markdown",
   "metadata": {},
   "source": [
    "### Data generator"
   ]
  },
  {
   "cell_type": "code",
   "execution_count": 9,
   "metadata": {},
   "outputs": [],
   "source": [
    "class Data:\n",
    "    @staticmethod\n",
    "    def generate_uniform_data(n: int):\n",
    "        points = np.random.uniform(low=0, high=1, size=(n, 2))\n",
    "        labels = np.fromiter(map(lambda point: int(point[0] <= point[1]), points), dtype=int)\n",
    "        return points, np.expand_dims(labels, axis=-1)\n",
    "\n",
    "    @staticmethod\n",
    "    def generate_X_like_data():\n",
    "        points = []\n",
    "        labels = []\n",
    "        for i in range(11):\n",
    "            value = 0.1 * i\n",
    "            points.append([value, value])\n",
    "            labels.append(0)\n",
    "\n",
    "            if value == 0.5:\n",
    "                continue\n",
    "\n",
    "            points.append([value, 1 - value])\n",
    "            labels.append(1)\n",
    "        return np.array(points, dtype=float), np.expand_dims(np.array(labels, dtype=int), axis=-1)"
   ]
  },
  {
   "cell_type": "markdown",
   "metadata": {},
   "source": [
    "### Network components"
   ]
  },
  {
   "cell_type": "markdown",
   "metadata": {},
   "source": [
    "### Helper functions"
   ]
  },
  {
   "cell_type": "code",
   "execution_count": 62,
   "metadata": {},
   "outputs": [],
   "source": [
    "def split_data(points: np.ndarray, labels: np.ndarray, train_size: Union[int, float], test_size: Union[int, float]):\n",
    "    \"\"\"Split data into train and test datasets\n",
    "    \"\"\"\n",
    "    number_of_points = points.shape[0]\n",
    "\n",
    "    if isinstance(train_size, float) and isinstance(test_size, float):\n",
    "        if (train_size + test_size) != 1.0:\n",
    "            raise ValueError(f\"train size + test size should be equal to 1.0\")\n",
    "\n",
    "        train_size = ceil(train_size * number_of_points)\n",
    "        test_size = floor(test_size * number_of_points)\n",
    "    elif isinstance(train_size, int) and isinstance(test_size, int):\n",
    "        if number_of_points != (train_size + test_size):\n",
    "            raise ValueError(f\"train size + test size should be equal to the number of points\")\n",
    "    else:\n",
    "        raise TypeError(\"train_size and test_size should be the same type\")\n",
    "\n",
    "    splitted_points = np.split(points, [train_size, number_of_points], axis=0)[:-1]\n",
    "    splitted_labels = np.split(labels, [train_size, number_of_points], axis=0)[:-1]\n",
    "    return splitted_points + splitted_labels"
   ]
  },
  {
   "cell_type": "markdown",
   "metadata": {},
   "source": [
    "## Results"
   ]
  },
  {
   "cell_type": "markdown",
   "metadata": {},
   "source": [
    "### Uniform distribution"
   ]
  },
  {
   "cell_type": "code",
   "execution_count": 76,
   "metadata": {},
   "outputs": [
    {
     "name": "stdout",
     "output_type": "stream",
     "text": [
      "shape of train data: (335, 2)\n",
      "shape of validation data: (165, 2)\n",
      "shape of validation data: (100, 2)\n"
     ]
    }
   ],
   "source": [
    "points, labels = Data.generate_uniform_data(500)\n",
    "x_train, x_validation, y_train, y_validation = split_data(points, labels, 0.67, 0.33)\n",
    "x_test, y_test = Data.generate_uniform_data(100)\n",
    "\n",
    "print(\"shape of train data:\", x_train.shape)\n",
    "print(\"shape of validation data:\", x_validation.shape)\n",
    "print(\"shape of validation data:\", x_test.shape)"
   ]
  },
  {
   "cell_type": "markdown",
   "metadata": {},
   "source": [
    "### X like"
   ]
  },
  {
   "cell_type": "code",
   "execution_count": 77,
   "metadata": {},
   "outputs": [],
   "source": [
    "x, y = Data.generate_X_like_data()"
   ]
  }
 ],
 "metadata": {
  "kernelspec": {
   "display_name": "Python 3.9.12 ('DP2022Summer')",
   "language": "python",
   "name": "python3"
  },
  "language_info": {
   "codemirror_mode": {
    "name": "ipython",
    "version": 3
   },
   "file_extension": ".py",
   "mimetype": "text/x-python",
   "name": "python",
   "nbconvert_exporter": "python",
   "pygments_lexer": "ipython3",
   "version": "3.9.12"
  },
  "orig_nbformat": 4,
  "vscode": {
   "interpreter": {
    "hash": "1daeb12ce1c2b9107a007b93cc8d47f32e23b47396c877a51898640c6e188db1"
   }
  }
 },
 "nbformat": 4,
 "nbformat_minor": 2
}
