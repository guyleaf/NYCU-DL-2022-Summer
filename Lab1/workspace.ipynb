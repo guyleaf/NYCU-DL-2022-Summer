{
 "cells": [
  {
   "cell_type": "code",
   "execution_count": null,
   "metadata": {},
   "outputs": [],
   "source": [
    "%pip install numpy\n",
    "%pip install matplotlib"
   ]
  },
  {
   "cell_type": "code",
   "execution_count": 1,
   "metadata": {},
   "outputs": [],
   "source": [
    "import numpy as np\n",
    "import matplotlib.pyplot as plt\n",
    "\n",
    "from typing import List, Tuple, Union\n",
    "from math import ceil, floor, sqrt"
   ]
  },
  {
   "cell_type": "markdown",
   "metadata": {},
   "source": [
    "## Setup"
   ]
  },
  {
   "cell_type": "markdown",
   "metadata": {},
   "source": [
    "### Helper functions"
   ]
  },
  {
   "cell_type": "code",
   "execution_count": 2,
   "metadata": {},
   "outputs": [],
   "source": [
    "def split_data(points: np.ndarray, labels: np.ndarray, train_size: Union[int, float], test_size: Union[int, float]):\n",
    "    \"\"\"Split data into train and test datasets\n",
    "    \"\"\"\n",
    "    number_of_points = points.shape[0]\n",
    "\n",
    "    if isinstance(train_size, float) and isinstance(test_size, float):\n",
    "        if (train_size + test_size) != 1.0:\n",
    "            raise ValueError(f\"train size + test size should be equal to 1.0\")\n",
    "\n",
    "        train_size = ceil(train_size * number_of_points)\n",
    "        test_size = floor(test_size * number_of_points)\n",
    "    elif isinstance(train_size, int) and isinstance(test_size, int):\n",
    "        if number_of_points != (train_size + test_size):\n",
    "            raise ValueError(f\"train size + test size should be equal to the number of points\")\n",
    "    else:\n",
    "        raise TypeError(\"train_size and test_size should be the same type\")\n",
    "\n",
    "    splitted_points = np.split(points, [train_size, number_of_points], axis=0)[:-1]\n",
    "    splitted_labels = np.split(labels, [train_size, number_of_points], axis=0)[:-1]\n",
    "    return splitted_points + splitted_labels"
   ]
  },
  {
   "cell_type": "markdown",
   "metadata": {},
   "source": [
    "### Data generator"
   ]
  },
  {
   "cell_type": "code",
   "execution_count": 30,
   "metadata": {},
   "outputs": [],
   "source": [
    "class Data:\n",
    "    _DATA_RANDOM_SEED: int = 8765\n",
    "    _data_random_generator: np.random.Generator = np.random.default_rng(seed=5678)\n",
    "\n",
    "    # deterministic random generator for data\n",
    "    @classmethod\n",
    "    def get_data_random_generator(cls, deterministic: bool = True) -> np.random.Generator:\n",
    "        global _data_random_generator\n",
    "        if deterministic:\n",
    "            return np.random.default_rng(seed=cls._DATA_RANDOM_SEED)\n",
    "        else:\n",
    "            return cls._data_random_generator\n",
    "\n",
    "    @classmethod\n",
    "    def generate_uniform_data(cls, n: int):\n",
    "        points = cls.get_data_random_generator().uniform(low=0, high=1, size=(n, 2))\n",
    "        labels = np.fromiter(map(lambda point: int(point[0] <= point[1]), points), dtype=int)\n",
    "        return points, np.expand_dims(labels, axis=-1)\n",
    "\n",
    "    @classmethod\n",
    "    def generate_X_like_data(cls):\n",
    "        points = []\n",
    "        labels = []\n",
    "        for i in range(11):\n",
    "            value = 0.1 * i\n",
    "            points.append([value, value])\n",
    "            labels.append(0)\n",
    "\n",
    "            if value == 0.5:\n",
    "                continue\n",
    "\n",
    "            points.append([value, 1 - value])\n",
    "            labels.append(1)\n",
    "        return np.array(points, dtype=float), np.expand_dims(np.array(labels, dtype=int), axis=-1)"
   ]
  },
  {
   "cell_type": "markdown",
   "metadata": {},
   "source": [
    "### Network components"
   ]
  },
  {
   "cell_type": "code",
   "execution_count": 153,
   "metadata": {},
   "outputs": [],
   "source": [
    "class Module:\n",
    "    def reset_parameters(self) -> None:\n",
    "        pass\n",
    "\n",
    "    def forward(self, x: np.ndarray) -> np.ndarray:\n",
    "        return None\n",
    "\n",
    "    def backward(self) -> None:\n",
    "        pass\n",
    "\n",
    "class Sigmoid(Module):\n",
    "    def __init__(self) -> None:\n",
    "        super(Sigmoid, self).__init__()\n",
    "        pass\n",
    "\n",
    "    def forward(self, x: np.ndarray) -> np.ndarray:\n",
    "        return 1.0 / (1.0 + np.exp(-x))\n",
    "\n",
    "    def backward(self) -> None:\n",
    "        pass\n",
    "\n",
    "class Dense(Module):\n",
    "    _random_generator: np.random.Generator\n",
    "    _input_feature_size: int\n",
    "    _output_feature_size: int\n",
    "    _weight: np.ndarray\n",
    "    _bias: np.ndarray\n",
    "\n",
    "    def __init__(self, input_feature_size: int, output_feature_size: int, bias: bool = True, random_generator: np.random.Generator = np.random.default_rng()) -> None:\n",
    "        super(Dense, self).__init__()\n",
    "        self._random_generator = random_generator\n",
    "        self._input_feature_size = input_feature_size\n",
    "        self._output_feature_size = output_feature_size\n",
    "        self._weight = np.zeros((output_feature_size, input_feature_size))\n",
    "        if bias:\n",
    "            self._bias = np.zeros(output_feature_size)\n",
    "        else:\n",
    "            self._bias = None\n",
    "\n",
    "    def reset_parameters(self) -> None:\n",
    "        random_range = sqrt(1 / self._input_feature_size)\n",
    "        self._weight = self._random_generator.uniform(low = -random_range, high = random_range, size = (self._output_feature_size, self._input_feature_size))\n",
    "        self._bias = self._random_generator.uniform(low = -random_range, high = random_range, size = self._output_feature_size)\n",
    "\n",
    "    def forward(self, x: np.ndarray) -> np.ndarray:\n",
    "        # @ is equivalent to np.matmul, + is equivalent to np.add\n",
    "        return x @ self._weight.swapaxes(-1, -2) + self._bias\n",
    "\n",
    "    def backward(self) -> None:\n",
    "        pass\n",
    "\n",
    "class Network(Module):\n",
    "    _layers: List[Module]\n",
    "\n",
    "    def __init__(self, input_size: int, output_size: int, hidden_sizes: Union[List[int], Tuple[int]], random_generator: np.random.Generator) -> None:\n",
    "        super(Network, self).__init__()\n",
    "        self._layers = []\n",
    "\n",
    "        for hidden_size in hidden_sizes:\n",
    "            layer = Dense(input_size, hidden_size, random_generator = random_generator)\n",
    "            activation_layer = Sigmoid()\n",
    "            self._layers.extend([layer, activation_layer])\n",
    "            input_size = hidden_size\n",
    "\n",
    "        output_layer = Dense(input_size, output_size, random_generator = random_generator)\n",
    "        self._layers.extend([output_layer, Sigmoid()])\n",
    "\n",
    "        for layer in self._layers:\n",
    "            layer.reset_parameters()\n",
    "\n",
    "    def forward(self, x: np.ndarray) -> np.ndarray:\n",
    "        y = x\n",
    "        for layer in self._layers:\n",
    "            y = layer.forward(y)\n",
    "        return y\n",
    "\n",
    "    def backward(self) -> None:\n",
    "        pass"
   ]
  },
  {
   "cell_type": "code",
   "execution_count": 156,
   "metadata": {},
   "outputs": [
    {
     "data": {
      "text/plain": [
       "array([[0.43431755],\n",
       "       [0.42743879],\n",
       "       [0.43155144],\n",
       "       [0.42360968],\n",
       "       [0.42772034],\n",
       "       [0.42423286],\n",
       "       [0.42459648],\n",
       "       [0.43097408],\n",
       "       [0.43207898],\n",
       "       [0.42214131]])"
      ]
     },
     "execution_count": 156,
     "metadata": {},
     "output_type": "execute_result"
    }
   ],
   "source": [
    "model_random_generator: np.random.Generator = np.random.default_rng(seed=7777)\n",
    "x = Data.get_data_random_generator(False).normal(size=(10, 5))\n",
    "\n",
    "network = Network(x.shape[-1], 1, (5, 3), model_random_generator)\n",
    "network.forward(x)"
   ]
  },
  {
   "cell_type": "markdown",
   "metadata": {},
   "source": [
    "## Results"
   ]
  },
  {
   "cell_type": "markdown",
   "metadata": {},
   "source": [
    "### Uniform distribution"
   ]
  },
  {
   "cell_type": "code",
   "execution_count": 24,
   "metadata": {},
   "outputs": [
    {
     "name": "stdout",
     "output_type": "stream",
     "text": [
      "x train data:  [[0.50779375 0.98285872]\n",
      " [0.62990052 0.32851095]\n",
      " [0.33831504 0.6298731 ]\n",
      " [0.13917241 0.81296814]\n",
      " [0.48371171 0.47093232]]\n",
      "y train data:  [[1]\n",
      " [0]\n",
      " [1]\n",
      " [1]\n",
      " [0]]\n",
      "shape of train data: (335, 2)\n",
      "shape of validation data: (165, 2)\n",
      "shape of validation data: (100, 2)\n"
     ]
    }
   ],
   "source": [
    "points, labels = Data.generate_uniform_data(500)\n",
    "x_train, x_validation, y_train, y_validation = split_data(points, labels, 0.67, 0.33)\n",
    "x_test, y_test = Data.generate_uniform_data(100)\n",
    "\n",
    "print(\"x train data: \", x_train[:5])\n",
    "print(\"y train data: \", y_train[:5])\n",
    "\n",
    "print(\"shape of train data:\", x_train.shape)\n",
    "print(\"shape of validation data:\", x_validation.shape)\n",
    "print(\"shape of validation data:\", x_test.shape)"
   ]
  },
  {
   "cell_type": "markdown",
   "metadata": {},
   "source": [
    "### X like"
   ]
  },
  {
   "cell_type": "code",
   "execution_count": 77,
   "metadata": {},
   "outputs": [],
   "source": [
    "x, y = Data.generate_X_like_data()"
   ]
  }
 ],
 "metadata": {
  "kernelspec": {
   "display_name": "Python 3.9.12 ('DP2022Summer')",
   "language": "python",
   "name": "python3"
  },
  "language_info": {
   "codemirror_mode": {
    "name": "ipython",
    "version": 3
   },
   "file_extension": ".py",
   "mimetype": "text/x-python",
   "name": "python",
   "nbconvert_exporter": "python",
   "pygments_lexer": "ipython3",
   "version": "3.9.12"
  },
  "orig_nbformat": 4,
  "vscode": {
   "interpreter": {
    "hash": "1daeb12ce1c2b9107a007b93cc8d47f32e23b47396c877a51898640c6e188db1"
   }
  }
 },
 "nbformat": 4,
 "nbformat_minor": 2
}
